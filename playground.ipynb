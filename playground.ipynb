{
 "cells": [
  {
   "cell_type": "markdown",
   "id": "78acffc4",
   "metadata": {},
   "source": [
    "# Pytorch 101 - Tensors\n",
    "\n",
    "Tensor is a just a multi-dimensional array just like numpy's ndarry.\n",
    "Both are wrappers around contiguous memory blocks\n",
    "PyTorch tensors differs because:\n",
    " - They can live on GPU(Cuda)\n",
    " - Support autograd (automatic differentiation)\n",
    " - Have views and copies (important for memory efficiency )\n",
    "\n",
    "### Tensor structure (Conceptually)\n",
    "- Data Pointer -> points to raw memory where elements are stored\n",
    "- Shape -> dimensions of the tensor\n",
    "- Stride -> How many steps to jump in memory to move along each axis\n",
    "- DataType(dtype) -> eg. `float64`, `int64`\n",
    "- Device -> CPU, GPU, etc.\n",
    "\n",
    "#### Stride\n",
    "Stride(3, 1) means:\n",
    " - To move one row down -> jump 3 elements in memory\n",
    " - To move one column right -> jump 1 element"
   ]
  },
  {
   "cell_type": "code",
   "execution_count": 13,
   "id": "3dfa58af",
   "metadata": {},
   "outputs": [
    {
     "name": "stdout",
     "output_type": "stream",
     "text": [
      "tensor([[1, 2],\n",
      "        [3, 4]], device='cuda:0', dtype=torch.int16)\n",
      "torch.int16\n",
      "(2, 1)\n",
      "torch.Size([2, 2])\n",
      "cuda:0\n"
     ]
    }
   ],
   "source": [
    "import torch \n",
    "\n",
    "x = torch.tensor(\n",
    "    [[1, 2],\n",
    "    [3, 4]],\n",
    "    dtype=torch.int16,\n",
    "    device='cuda:0',\n",
    "    requires_grad=False,\n",
    "    pin_memory=True, # lock the memory prevents os from moving it around benefits performance during data transfer from cpu to gpu\n",
    ")\n",
    "\n",
    "print(x)\n",
    "print(x.dtype)\n",
    "print(x.stride())\n",
    "print(x.shape)\n",
    "print(x.device)"
   ]
  },
  {
   "attachments": {
    "image.png": {
     "image/png": "[encoded data removed]"
    }
   },
   "cell_type": "markdown",
   "id": "75576112",
   "metadata": {},
   "source": [
    "## AutoGrad\n",
    "Gradients are essentially derivatives (the rate of change) for functions with multiple variables, which plays crucial role in help neural network learn.\n",
    "The mathematical operations for finding derivatives are defined for continuous functions, floating-point numbers (like 1.0, 2.89) are used to represent continuous values.\n",
    "When we set Pytorch `require_grad=True` on a tensor, it tells torch's autograd engine to track all the operations performed on it, so it can automatically compute the gradients during back-propogation.\n",
    "\n",
    "> Since gradients are only mathematically well-defined for continuous functions, torch restricts this feature to tensors with float or completx data types: Doesn't work with discrete values like int.\n",
    "\n",
    "![image.png](attachment:image.png)\n"
   ]
  },
  {
   "cell_type": "code",
   "execution_count": 30,
   "id": "fdc6125e",
   "metadata": {},
   "outputs": [
    {
     "name": "stdout",
     "output_type": "stream",
     "text": [
      "tensor([-0.6971, -2.6107, -0.7849], requires_grad=True)\n"
     ]
    },
    {
     "data": {
      "text/plain": [
       "tensor([1., 1., 1.])"
      ]
     },
     "execution_count": 30,
     "metadata": {},
     "output_type": "execute_result"
    }
   ],
   "source": [
    "import torch \n",
    "\n",
    "x = torch.randn(3, requires_grad=True)\n",
    "\n",
    "print(x)\n",
    "\n",
    "# When you do x += 2 with x being tensor enabled with requires_grad=True, you cannot do that in-place operation, because it would modify the value of x, and the autograd engine would not be able to track the changes properly.\n",
    "# Instead, you should create a new tensor y that is the result of the operation.\n",
    "# wrong: x += 2\n",
    "y = x + 2\n",
    "z = y.sum()\n",
    "z.backward()\n",
    "x.grad\n"
   ]
  },
  {
   "cell_type": "markdown",
   "id": "54edd64f",
   "metadata": {},
   "source": [
    "### Tensor Operations"
   ]
  },
  {
   "cell_type": "code",
   "execution_count": 33,
   "id": "12c4775d",
   "metadata": {},
   "outputs": [
    {
     "name": "stdout",
     "output_type": "stream",
     "text": [
      "Original Tensor:\n",
      " tensor([[1, 2],\n",
      "        [4, 5]])\n",
      "tensor([[1, 2],\n",
      "        [4, 5]])\n",
      "tensor([1, 2])\n",
      "tensor(5)\n"
     ]
    }
   ],
   "source": [
    "# Indexing and slicing tensors\n",
    "import torch \n",
    "x =  torch.tensor(\n",
    "    [[1, 2], [4, 5]]\n",
    ")\n",
    "\n",
    "print(\"Original Tensor:\\n\", x)\n",
    "print(x)\n",
    "\n",
    "# Access first row\n",
    "print(x[0])\n",
    "\n",
    "# Access single element\n",
    "print(x[1, 1])\n"
   ]
  },
  {
   "cell_type": "code",
   "execution_count": 34,
   "id": "9fa00404",
   "metadata": {},
   "outputs": [
    {
     "name": "stdout",
     "output_type": "stream",
     "text": [
      "Original tensors:  tensor([[1, 2, 3],\n",
      "        [4, 5, 6]])\n",
      "tensor([2, 5])\n",
      "\n",
      "Sliced Tensor:\n",
      " tensor([[2, 3],\n",
      "        [5, 6]])\n"
     ]
    }
   ],
   "source": [
    "# Slicing tensor\n",
    "import torch\n",
    "\n",
    "x = torch.tensor(\n",
    "    [[1, 2, 3],\n",
    "     [4, 5, 6]]\n",
    ")\n",
    "print(\"Original tensors: \", x)\n",
    "\n",
    "print(x[:, 1]) # all rows, second column\n",
    "x_sliced = x[:, 1:]\n",
    "print(\"\\nSliced Tensor:\\n\", x_sliced)"
   ]
  },
  {
   "cell_type": "code",
   "execution_count": 32,
   "id": "ed9798b3",
   "metadata": {},
   "outputs": [
    {
     "name": "stdout",
     "output_type": "stream",
     "text": [
      "Original tensor: tensor([0, 1, 2, 3, 4, 5, 6, 7, 8, 9])\n",
      "\n",
      "Boolean Mask (x > 5): tensor([False, False, False, False, False, False,  True,  True,  True,  True])\n",
      "\n",
      "Elements greater than 5: tensor([6, 7, 8, 9])\n"
     ]
    }
   ],
   "source": [
    "# Indexing with boolean masks\n",
    "import torch\n",
    "x = torch.arange(10)\n",
    "print(\"Original tensor:\", x)\n",
    "\n",
    "# assume, we want to find elements greater than 5\n",
    "mask = x > 5\n",
    "print(\"\\nBoolean Mask (x > 5):\", mask)\n",
    "\n",
    "print(\"\\nElements greater than 5:\", x[mask])"
   ]
  },
  {
   "cell_type": "code",
   "execution_count": null,
   "id": "6b6e4a8a",
   "metadata": {},
   "outputs": [
    {
     "name": "stdout",
     "output_type": "stream",
     "text": [
      "torch.Size([2, 2])\n",
      "torch.Size([2, 2])\n",
      "Concatenated Tensor:\n",
      " tensor([[1, 2],\n",
      "        [3, 4],\n",
      "        [5, 6],\n",
      "        [7, 8]])\n",
      "Resulting shape: torch.Size([4, 2])\n",
      "Concatenated Tensor along columns:\n",
      " tensor([[1, 2, 5, 6],\n",
      "        [3, 4, 7, 8]])\n",
      "Resulting shape: torch.Size([2, 4])\n",
      "--------------------\n",
      "Stacked Tensor along new dimension (dim=0):\n",
      " tensor([[[1, 2],\n",
      "         [5, 6]],\n",
      "\n",
      "        [[3, 4],\n",
      "         [7, 8]]])\n",
      "Resulting shape: torch.Size([2, 2, 2])\n"
     ]
    }
   ],
   "source": [
    "# torch.cat vs torch.stack\n",
    "# (Joining tensors)\n",
    "\n",
    "import torch\n",
    "\n",
    "# cat glues tensors together along an existing dimension. The tensor must have the same shape, \n",
    "# except in the dimension corresponding to the concatenation dimension.\n",
    "\n",
    "t1 = torch.tensor([[1, 2], [3, 4]])\n",
    "t2 = torch.tensor([[5, 6], [7, 8]])\n",
    "print(t1.shape)\n",
    "print(t2.shape)\n",
    "\n",
    "# concatenate along rows (dim:0)\n",
    "t_cat = torch.cat(\n",
    "    (t1, t2), dim=0\n",
    ")\n",
    "\n",
    "print(\"Concatenated Tensor:\\n\", t_cat)\n",
    "print(\"Resulting shape:\", t_cat.shape)\n",
    "\n",
    "# Concat along columns (dim:1)\n",
    "t_cat_col = torch.cat(\n",
    "    (t1, t2), dim=1\n",
    ")\n",
    "\n",
    "print(\"Concatenated Tensor along columns:\\n\", t_cat_col)\n",
    "print(\"Resulting shape:\", t_cat_col.shape)\n",
    "\n",
    "\n",
    "print(\"--\" * 10)\n",
    "\n",
    "# Stack create a new dimension and joins the tensors along it.\n",
    "# This is used to create a higher-dimensional tensor from a list of lower-dimensional ones\n",
    "# All tensors being stacked must have the exact same shape\n",
    "\n",
    "stack_dim0 = torch.stack([t1, t2], dim=0)\n",
    "print(\"Stacked Tensor along new dimension (dim=0):\\n\", stack_dim0)\n",
    "print(\"Resulting shape:\", stack_dim0.shape)\n"
   ]
  },
  {
   "cell_type": "markdown",
   "id": "46b12caa",
   "metadata": {},
   "source": [
    "#### Tensor Math operations"
   ]
  },
  {
   "cell_type": "code",
   "execution_count": null,
   "id": "f567bd9c",
   "metadata": {},
   "outputs": [
    {
     "name": "stdout",
     "output_type": "stream",
     "text": [
      "Element-wise addition:\n",
      " tensor([5, 7, 9])\n",
      "Element-wise multiplication:\n",
      " tensor([ 4, 10, 18])\n",
      "Element-wise subtraction:\n",
      " tensor([-3, -3, -3])\n",
      "Element-wise division:\n",
      " tensor([0.2500, 0.4000, 0.5000])\n"
     ]
    }
   ],
   "source": [
    "# 1. Element-wise operations\n",
    "\n",
    "import torch \n",
    "\n",
    "x = torch.tensor([1, 2, 3])\n",
    "y = torch.tensor([4, 5, 6])\n",
    "\n",
    "# Most standard math operations (+, -, *, /) work on element-by-element basis.\n",
    "# but the tensors must have the same shape\n",
    "\n",
    "\n",
    "z = x + y\n",
    "print(\"Element-wise addition:\\n\", z)\n",
    "\n",
    "z = x * y\n",
    "print(\"Element-wise multiplication:\\n\", z)\n",
    "\n",
    "z = x - y\n",
    "print(\"Element-wise subtraction:\\n\", z)\n",
    "\n",
    "z = x / y\n",
    "print(\"Element-wise division:\\n\", z)"
   ]
  },
  {
   "cell_type": "code",
   "execution_count": 44,
   "id": "9d81a6da",
   "metadata": {},
   "outputs": [
    {
     "name": "stdout",
     "output_type": "stream",
     "text": [
      "Matrix multiplication result:\n",
      " tensor([[19, 22],\n",
      "        [43, 50]])\n",
      "Matrix multiplication result using torch.matmul:\n",
      " tensor([[19, 22],\n",
      "        [43, 50]])\n"
     ]
    }
   ],
   "source": [
    "# Matrix Multiplication \n",
    "import torch\n",
    "\n",
    "x = torch.tensor([[1, 2], [3, 4]])\n",
    "y = torch.tensor([[5, 6], [7, 8]])\n",
    "\n",
    "# The `@` operator or `torch.matmul` can be used for matrix multiplication\n",
    "# This is dot-production operation (pretty high school math - huh?)\n",
    "# also same, the column of the first matrix must match the row of the second\n",
    "z = x @ y\n",
    "print(\"Matrix multiplication result:\\n\", z)\n",
    "\n",
    "Z_mul = torch.matmul(x, y)\n",
    "print(\"Matrix multiplication result using torch.matmul:\\n\", Z_mul)"
   ]
  },
  {
   "cell_type": "markdown",
   "id": "5cc08db0",
   "metadata": {},
   "source": [
    "### Shape Manipulation\n",
    "\n",
    "- The key idea is that the data is ofter stored in flat, one-dimensional block of memory\n",
    "- Shape manipulation functions are tools that change how pytorch interprets that block of memory, usually without creating new copies of the data\n"
   ]
  },
  {
   "cell_type": "code",
   "execution_count": 59,
   "id": "d9cfe798",
   "metadata": {},
   "outputs": [
    {
     "name": "stdout",
     "output_type": "stream",
     "text": [
      "Original tensor:\n",
      " tensor([ 0,  1,  2,  3,  4,  5,  6,  7,  8,  9, 10, 11])\n",
      "Original shape: torch.Size([12])\n",
      "Reshaped tensor (3x4):\n",
      " tensor([[ 0,  1,  2,  3],\n",
      "        [ 4,  5,  6,  7],\n",
      "        [ 8,  9, 10, 11]])\n",
      "New shape: torch.Size([3, 4])\n",
      "--------------------\n",
      "Reshaped tensor (3x4 with -1):\n",
      " tensor([[ 0,  1,  2,  3],\n",
      "        [ 4,  5,  6,  7],\n",
      "        [ 8,  9, 10, 11]])\n",
      "New shape: torch.Size([3, 4])\n",
      "--------------------\n",
      "Original shape: torch.Size([3, 4])\n",
      "Batched shape: torch.Size([1, 3, 4])\n",
      "Shape after squeeze(0): torch.Size([3, 4])\n",
      "--------------------\n",
      "Original shape: torch.Size([1, 224, 224, 3])\n",
      "Permuted shape: torch.Size([1, 3, 224, 224])\n"
     ]
    }
   ],
   "source": [
    "import torch \n",
    "\n",
    "x = torch.arange(12)\n",
    "print(\"Original tensor:\\n\", x)\n",
    "print(\"Original shape:\", x.shape)\n",
    "\n",
    "x_3x4 = x.reshape(3, 4) # Note: new copy of the data is not created, only how torch interprets the data is modified\n",
    "print(\"Reshaped tensor (3x4):\\n\", x_3x4) \n",
    "print(\"New shape:\", x_3x4.shape)\n",
    "\n",
    "print(\"-\" * 20)\n",
    "\n",
    "# -1 trick\n",
    "# we can use -1 in one of the dimensions, and pytorch will automatically infer the correct size\n",
    "x_3x4_neg1 = x.reshape(3, -1)\n",
    "print(\"Reshaped tensor (3x4 with -1):\\n\", x_3x4_neg1)\n",
    "print(\"New shape:\", x_3x4_neg1.shape)\n",
    "\n",
    "print(\"-\" * 20)\n",
    "# Squeeze and unsqueeze\n",
    "\n",
    "x = torch.arange(12).reshape(3, 4)\n",
    "print(\"Original shape:\", x.shape)\n",
    "\n",
    "x_batched = x.unsqueeze(dim=0)\n",
    "print(\"Batched shape:\", x_batched.shape)\n",
    "\n",
    "x_unbatched = x_batched.squeeze(dim=0)\n",
    "print(\"Shape after squeeze(0):\", x_unbatched.shape)\n",
    "\n",
    "print(\"-\" * 20)\n",
    "\n",
    "# Permute() - Rearranging dimensions\n",
    "\n",
    "# Fake image tensors: batch x height x width x channels\n",
    "x_nhwc = torch.randn(1, 224, 224, 3)\n",
    "print(\"Original shape:\", x_nhwc.shape)\n",
    "\n",
    "# PyTorch's CNN layer expect (N, C, H, W)\n",
    "# We need to move the channels dimensions to be after the batch dim\n",
    "x_permuted = x_nhwc.permute(0, 3, 1, 2)\n",
    "print(\"Permuted shape:\", x_permuted.shape)\n"
   ]
  },
  {
   "cell_type": "code",
   "execution_count": null,
   "id": "dc22c01c",
   "metadata": {},
   "outputs": [
    {
     "name": "stdout",
     "output_type": "stream",
     "text": [
      "True\n"
     ]
    }
   ],
   "source": []
  }
 ],
 "metadata": {
  "kernelspec": {
   "display_name": "pyt0rch",
   "language": "python",
   "name": "python3"
  },
  "language_info": {
   "codemirror_mode": {
    "name": "ipython",
    "version": 3
   },
   "file_extension": ".py",
   "mimetype": "text/x-python",
   "name": "python",
   "nbconvert_exporter": "python",
   "pygments_lexer": "ipython3",
   "version": "3.12.0"
  }
 },
 "nbformat": 4,
 "nbformat_minor": 5
}
